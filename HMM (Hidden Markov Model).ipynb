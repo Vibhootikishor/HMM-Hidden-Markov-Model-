{
 "cells": [
  {
   "cell_type": "markdown",
   "metadata": {},
   "source": [
    "# Importing required libraries"
   ]
  },
  {
   "cell_type": "code",
   "execution_count": 2,
   "metadata": {},
   "outputs": [],
   "source": [
    "import numpy as np"
   ]
  },
  {
   "cell_type": "code",
   "execution_count": 29,
   "metadata": {},
   "outputs": [],
   "source": [
    "A = np.array([[0.1,0.5,0.4],\n",
    "              [0.6,0.3,0.1],\n",
    "              [0.3,0.6,0.1]])\n",
    "\n",
    "B = np.array([[0.3,0.4,0.3],\n",
    "              [0.4,0.2,0.4],\n",
    "              [0.6,0.2,0.2]])\n",
    "\n",
    "P = np.array([0.3,0.4,0.3])\n",
    "\n",
    "O = [1,2,0,0,1,1,2,0,1] "
   ]
  },
  {
   "cell_type": "markdown",
   "metadata": {},
   "source": [
    "# Defining Function"
   ]
  },
  {
   "cell_type": "code",
   "execution_count": 30,
   "metadata": {},
   "outputs": [],
   "source": [
    "def forward_var(A,B,P,O):\n",
    "    T = len(O) \n",
    "    N = A.shape[0]\n",
    "    alpha = np.zeros((T,N))\n",
    "    for t in range(alpha.shape[0]):\n",
    "        for i in range(alpha.shape[1]):\n",
    "            if t==0:\n",
    "                alpha[t,i] = B[i,O[0]]*P[i]\n",
    "            else:\n",
    "                sum1=0\n",
    "                for k in range(A.shape[0]):\n",
    "                    sum1 += alpha[t-1,k]*A[k,i]    \n",
    "                alpha[t,i] =  sum1*B[i,O[t]]\n",
    "    return(alpha)"
   ]
  },
  {
   "cell_type": "code",
   "execution_count": 31,
   "metadata": {},
   "outputs": [
    {
     "name": "stdout",
     "output_type": "stream",
     "text": [
      "[[1.20000000e-01 8.00000000e-02 6.00000000e-02]\n",
      " [2.34000000e-02 4.80000000e-02 1.24000000e-02]\n",
      " [1.04580000e-02 1.34160000e-02 9.24000000e-03]\n",
      " [3.56022000e-03 5.91912000e-03 3.86928000e-03]\n",
      " [2.02731120e-03 1.17548280e-03 4.80585600e-04]\n",
      " [4.20878592e-04 3.30930360e-04 1.95306264e-04]\n",
      " [8.97713863e-05 1.70760865e-04 4.41950198e-05]\n",
      " [3.74076491e-05 4.90523858e-05 3.44424858e-05]\n",
      " [1.74019769e-05 1.08170064e-05 4.66250936e-06]]\n"
     ]
    }
   ],
   "source": [
    "alpha = forward_var(A,B,P,O)\n",
    "print(alpha)"
   ]
  },
  {
   "cell_type": "code",
   "execution_count": 32,
   "metadata": {},
   "outputs": [],
   "source": [
    "def backward_var(A,B,P,O):\n",
    "    T = len(O)\n",
    "    N = A.shape[0]\n",
    "    beta = np.zeros((T,N))\n",
    "    for t in range(beta.shape[0]-1,-1,-1):\n",
    "        for i in range(beta.shape[1]):\n",
    "            if t == beta.shape[0]-1:\n",
    "                beta[t,i] = 1\n",
    "            else:\n",
    "                sum1=0\n",
    "                for j in range(A.shape[0]):\n",
    "                    sum1 += A[i,j]*B[j,O[t+1]]*beta[t+1,j]    \n",
    "                beta[t,i] =  sum1\n",
    "    return(beta)"
   ]
  },
  {
   "cell_type": "code",
   "execution_count": 33,
   "metadata": {},
   "outputs": [
    {
     "name": "stdout",
     "output_type": "stream",
     "text": [
      "[[1.17641490e-04 1.31836205e-04 1.36960290e-04]\n",
      " [4.41941258e-04 3.74156652e-04 3.69399020e-04]\n",
      " [1.18420721e-03 8.48508480e-04 9.86305608e-04]\n",
      " [2.09811120e-03 2.72189280e-03 2.40368880e-03]\n",
      " [7.94328000e-03 1.05831600e-02 9.02580000e-03]\n",
      " [3.16860000e-02 3.74160000e-02 3.66780000e-02]\n",
      " [1.33000000e-01 9.36000000e-02 1.12200000e-01]\n",
      " [2.20000000e-01 3.20000000e-01 2.60000000e-01]\n",
      " [1.00000000e+00 1.00000000e+00 1.00000000e+00]]\n"
     ]
    }
   ],
   "source": [
    "beta = backward_var(A,B,P,O)\n",
    "print(beta)"
   ]
  },
  {
   "cell_type": "code",
   "execution_count": 34,
   "metadata": {},
   "outputs": [],
   "source": [
    "def forward_eval(alpha):\n",
    "    prob = np.sum(alpha[-1,:])\n",
    "    return(prob)"
   ]
  },
  {
   "cell_type": "code",
   "execution_count": 35,
   "metadata": {},
   "outputs": [
    {
     "name": "stdout",
     "output_type": "stream",
     "text": [
      "3.288149256686401e-05\n"
     ]
    }
   ],
   "source": [
    "forward_prob = forward_eval(alpha)\n",
    "print(forward_prob)"
   ]
  },
  {
   "cell_type": "code",
   "execution_count": 36,
   "metadata": {},
   "outputs": [],
   "source": [
    "def backward_eval(B,beta,O):\n",
    "    vec1 = np.ravel(B[:,O[0]])\n",
    "    vec2 = np.ravel(beta[0,:])\n",
    "    prob = np.dot(vec1,vec2)\n",
    "    return(prob)"
   ]
  },
  {
   "cell_type": "code",
   "execution_count": 37,
   "metadata": {},
   "outputs": [
    {
     "name": "stdout",
     "output_type": "stream",
     "text": [
      "0.00010081589488560002\n"
     ]
    }
   ],
   "source": [
    "backward_prob = backward_eval(B,beta,O)\n",
    "print(backward_prob)"
   ]
  },
  {
   "cell_type": "code",
   "execution_count": 38,
   "metadata": {},
   "outputs": [],
   "source": [
    "def gammaEval(alpha,beta):\n",
    "    gamma = np.multiply(alpha,beta) ## Element-wise product\n",
    "    statewise_sum = np.sum(gamma,axis=1)\n",
    "    statewise_sum = statewise_sum.reshape(len(statewise_sum),1)\n",
    "    gamma = gamma/statewise_sum\n",
    "    return(gamma)"
   ]
  },
  {
   "cell_type": "code",
   "execution_count": 39,
   "metadata": {},
   "outputs": [
    {
     "name": "stdout",
     "output_type": "stream",
     "text": [
      "[[0.42932901 0.32075479 0.24991619]\n",
      " [0.31450596 0.5461893  0.13930474]\n",
      " [0.37663859 0.34620052 0.27716089]\n",
      " [0.22717148 0.48997807 0.28285045]\n",
      " [0.4897436  0.37833813 0.13191827]\n",
      " [0.40557645 0.37656716 0.21785639]\n",
      " [0.36310987 0.48608551 0.15080463]\n",
      " [0.25028313 0.47737381 0.27234306]\n",
      " [0.52923318 0.32896944 0.14179738]]\n"
     ]
    }
   ],
   "source": [
    "gamma = gammaEval(alpha,beta)\n",
    "print(gamma)"
   ]
  },
  {
   "cell_type": "code",
   "execution_count": 40,
   "metadata": {},
   "outputs": [],
   "source": [
    "def Viterbi(A,B,P,O):\n",
    "    T = len(O)\n",
    "    N = A.shape[0]\n",
    "    delta = np.zeros((T,N))\n",
    "    psi = np.zeros((T,N))\n",
    "    optim_state = []\n",
    "    for t in range(delta.shape[0]):\n",
    "        for i in range(delta.shape[1]):\n",
    "            if t==0:\n",
    "                delta[t,i] = B[i,O[0]]*P[i]\n",
    "                psi[t,i] = 0\n",
    "            else:\n",
    "                ls = []\n",
    "                for k in range(N):\n",
    "                    val = delta[t-1,k]*A[k,i]*B[i,O[t]]\n",
    "                    ls.append(val)\n",
    "                arr = np.array(ls)\n",
    "                max_val = np.max(arr)\n",
    "                max_val_idx = np.argmax(arr)\n",
    "                delta[t,i] = max_val\n",
    "                psi[t,i] = max_val_idx\n",
    "    final_state_val = np.ravel(delta[-1,:])\n",
    "    idx = np.argmax(final_state_val)\n",
    "    optim_state.append(idx)\n",
    "    for t in range(T-2,-1,-1):\n",
    "        idx = psi[t,idx]\n",
    "        idx = int(idx)\n",
    "        optim_state.append(idx)\n",
    "    optim_state = optim_state[::-1] \n",
    "    return(optim_state)"
   ]
  },
  {
   "cell_type": "code",
   "execution_count": 41,
   "metadata": {},
   "outputs": [
    {
     "name": "stdout",
     "output_type": "stream",
     "text": [
      "[0, 0, 1, 0, 2, 1, 0, 1, 0]\n"
     ]
    }
   ],
   "source": [
    "optim_state = Viterbi(A,B,P,O)\n",
    "print(optim_state)"
   ]
  },
  {
   "cell_type": "code",
   "execution_count": 42,
   "metadata": {},
   "outputs": [],
   "source": [
    "def joint_state_measure(A,B,alpha,beta,O):\n",
    "    N = A.shape[0]\n",
    "    T = len(O)\n",
    "    eta = np.zeros((T-1,N,N))\n",
    "    \n",
    "    for t in range(eta.shape[0]):\n",
    "        sum1 = 0\n",
    "        for i in range(eta.shape[1]):\n",
    "            for j in range(eta.shape[2]):\n",
    "                eta[t,i,j] = alpha[t,i]*A[i,j]*B[j,O[t+1]]*beta[t+1,j]\n",
    "                sum1 += eta[t,i,j]\n",
    "        eta[t,:,:] = eta[t,:,:]/sum1\n",
    "    return(eta)"
   ]
  },
  {
   "cell_type": "code",
   "execution_count": 43,
   "metadata": {},
   "outputs": [
    {
     "name": "stdout",
     "output_type": "stream",
     "text": [
      "[[[0.04838553 0.27309465 0.10784883]\n",
      "  [0.19354213 0.10923786 0.01797481]\n",
      "  [0.0725783  0.16385679 0.0134811 ]]\n",
      "\n",
      " [[0.02528211 0.12076762 0.16845623]\n",
      "  [0.31116441 0.14863707 0.08638781]\n",
      "  [0.04019207 0.07679582 0.02231685]]\n",
      "\n",
      " [[0.02001921 0.17314028 0.1834791 ]\n",
      "  [0.15408932 0.13326736 0.05884384]\n",
      "  [0.05306296 0.18357042 0.04052751]]\n",
      "\n",
      " [[0.03440212 0.11458841 0.07818096]\n",
      "  [0.34317586 0.11430684 0.03249536]\n",
      "  [0.11216562 0.14944289 0.02124195]]\n",
      "\n",
      " [[0.07814412 0.23068866 0.18091081]\n",
      "  [0.27185881 0.08025523 0.02622409]\n",
      "  [0.05557352 0.06562326 0.01072148]]\n",
      "\n",
      " [[0.05107145 0.23961343 0.11489157]\n",
      "  [0.24094018 0.11304261 0.02258437]\n",
      "  [0.07109823 0.13342946 0.01332869]]\n",
      "\n",
      " [[0.01801899 0.17472956 0.17036132]\n",
      "  [0.20565156 0.19941969 0.08101425]\n",
      "  [0.02661258 0.10322456 0.02096749]]\n",
      "\n",
      " [[0.04550602 0.11376506 0.09101205]\n",
      "  [0.35803036 0.08950759 0.02983586]\n",
      "  [0.1256968  0.1256968  0.02094947]]]\n"
     ]
    }
   ],
   "source": [
    "eta = joint_state_measure(A,B,alpha,beta,O)\n",
    "print(eta)"
   ]
  },
  {
   "cell_type": "code",
   "execution_count": 44,
   "metadata": {},
   "outputs": [],
   "source": [
    "def Baum_Welch(eta,gamma,A,B,p,O):\n",
    "    N = A.shape[0]\n",
    "    M = B.shape[1]\n",
    "    mod_A = np.zeros((N,N))\n",
    "    mod_B = np.zeros((N,M))\n",
    "    mod_p = np.zeros(N)\n",
    "    \n",
    "    for i in range(len(mod_p)):\n",
    "        mod_p[i] = gamma[0,i]\n",
    "    \n",
    "    for i in range(mod_A.shape[0]):\n",
    "        for j in range(mod_A.shape[1]):\n",
    "            num_sum = 0\n",
    "            denom_sum = 0\n",
    "            for t in range(eta.shape[0]):\n",
    "                num_sum += eta[t,i,j]\n",
    "                denom_sum += gamma[t,i]\n",
    "            a = num_sum/denom_sum\n",
    "            mod_A[i,j] = a \n",
    "    \n",
    "    for j in range(B.shape[0]):\n",
    "        for k in range(B.shape[1]):\n",
    "            num_sum = 0\n",
    "            denom_sum = 0\n",
    "            for t in range(gamma.shape[0]):\n",
    "                if O[t] == k:\n",
    "                    num_sum += gamma[t,j]\n",
    "                denom_sum += gamma[t,j]\n",
    "            b = num_sum/denom_sum\n",
    "            mod_B[j,k] = b\n",
    "            \n",
    "    return(mod_A,mod_B,mod_p)"
   ]
  },
  {
   "cell_type": "code",
   "execution_count": 46,
   "metadata": {},
   "outputs": [
    {
     "data": {
      "text/plain": [
       "(array([[0.11232119, 0.50427419, 0.38340461],\n",
       "        [0.60747051, 0.28866811, 0.10386138],\n",
       "        [0.32342048, 0.58162025, 0.09495927]]),\n",
       " array([[0.25227298, 0.54758005, 0.20014697],\n",
       "        [0.35023798, 0.37452226, 0.27523976],\n",
       "        [0.44655356, 0.39780436, 0.15564208]]),\n",
       " array([0.42932901, 0.32075479, 0.24991619]))"
      ]
     },
     "execution_count": 46,
     "metadata": {},
     "output_type": "execute_result"
    }
   ],
   "source": [
    "Baum_Welch(eta,gamma,A,B,P,O)"
   ]
  },
  {
   "cell_type": "code",
   "execution_count": null,
   "metadata": {},
   "outputs": [],
   "source": []
  }
 ],
 "metadata": {
  "kernelspec": {
   "display_name": "Python 3",
   "language": "python",
   "name": "python3"
  },
  "language_info": {
   "codemirror_mode": {
    "name": "ipython",
    "version": 3
   },
   "file_extension": ".py",
   "mimetype": "text/x-python",
   "name": "python",
   "nbconvert_exporter": "python",
   "pygments_lexer": "ipython3",
   "version": "3.8.3"
  }
 },
 "nbformat": 4,
 "nbformat_minor": 4
}
